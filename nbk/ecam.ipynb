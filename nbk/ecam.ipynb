{
 "cells": [
  {
   "cell_type": "code",
   "execution_count": 1,
   "metadata": {},
   "outputs": [
    {
     "name": "stderr",
     "output_type": "stream",
     "text": [
      "── \u001b[1mAttaching packages\u001b[22m ─────────────────────────────────────── tidyverse 1.3.0 ──\n",
      "\n",
      "\u001b[32m✔\u001b[39m \u001b[34mggplot2\u001b[39m 3.2.1     \u001b[32m✔\u001b[39m \u001b[34mdplyr  \u001b[39m 0.8.4\n",
      "\u001b[32m✔\u001b[39m \u001b[34mtibble \u001b[39m 2.1.3     \u001b[32m✔\u001b[39m \u001b[34mstringr\u001b[39m 1.4.0\n",
      "\u001b[32m✔\u001b[39m \u001b[34mtidyr  \u001b[39m 1.0.2     \u001b[32m✔\u001b[39m \u001b[34mforcats\u001b[39m 0.4.0\n",
      "\u001b[32m✔\u001b[39m \u001b[34mpurrr  \u001b[39m 0.3.3     \n",
      "\n",
      "── \u001b[1mConflicts\u001b[22m ────────────────────────────────────────── tidyverse_conflicts() ──\n",
      "\u001b[31m✖\u001b[39m \u001b[34mdplyr\u001b[39m::\u001b[32mfilter()\u001b[39m masks \u001b[34mstats\u001b[39m::filter()\n",
      "\u001b[31m✖\u001b[39m \u001b[34mdplyr\u001b[39m::\u001b[32mlag()\u001b[39m    masks \u001b[34mstats\u001b[39m::lag()\n",
      "\n"
     ]
    }
   ],
   "source": [
    "library(readr)\n",
    "library(tidyverse)"
   ]
  },
  {
   "cell_type": "code",
   "execution_count": 2,
   "metadata": {},
   "outputs": [
    {
     "name": "stderr",
     "output_type": "stream",
     "text": [
      "Parsed with column specification:\n",
      "cols(\n",
      "  .default = col_double(),\n",
      "  `feature-id` = \u001b[31mcol_character()\u001b[39m\n",
      ")\n",
      "\n",
      "See spec(...) for full column specifications.\n",
      "\n"
     ]
    }
   ],
   "source": [
    "otu_data = read_tsv(\"../data/ecam-table-taxa.tsv\", skip = 1)\n",
    "otu_id = otu_data$`feature-id`\n",
    "otu_data = data.frame(otu_data[, -1], check.names = FALSE)\n",
    "rownames(otu_data) = otu_id"
   ]
  },
  {
   "cell_type": "code",
   "execution_count": 3,
   "metadata": {},
   "outputs": [
    {
     "name": "stderr",
     "output_type": "stream",
     "text": [
      "Parsed with column specification:\n",
      "cols(\n",
      "  `#SampleID` = \u001b[31mcol_character()\u001b[39m,\n",
      "  antiexposedall = \u001b[31mcol_character()\u001b[39m,\n",
      "  day_of_life = \u001b[31mcol_character()\u001b[39m,\n",
      "  delivery = \u001b[31mcol_character()\u001b[39m,\n",
      "  diet = \u001b[31mcol_character()\u001b[39m,\n",
      "  diet_3 = \u001b[31mcol_character()\u001b[39m,\n",
      "  mom_child = \u001b[31mcol_character()\u001b[39m,\n",
      "  month = \u001b[31mcol_character()\u001b[39m,\n",
      "  month_of_life = \u001b[31mcol_character()\u001b[39m,\n",
      "  sample_summary = \u001b[31mcol_character()\u001b[39m,\n",
      "  sex = \u001b[31mcol_character()\u001b[39m,\n",
      "  studyid = \u001b[31mcol_character()\u001b[39m\n",
      ")\n",
      "\n"
     ]
    }
   ],
   "source": [
    "meta_data = read_tsv(\"../data/ecam-sample-metadata.tsv\")[-1, ]\n",
    "meta_data = meta_data%>%rename(Sample.ID = `#SampleID`)"
   ]
  },
  {
   "cell_type": "code",
   "execution_count": 4,
   "metadata": {},
   "outputs": [
    {
     "name": "stderr",
     "output_type": "stream",
     "text": [
      " Package ‘exactRankTests’ is no longer under development.\n",
      " Please consider using package ‘coin’ instead.\n",
      "\n",
      "\n",
      "\n",
      "Attaching package: ‘nlme’\n",
      "\n",
      "\n",
      "The following object is masked from ‘package:dplyr’:\n",
      "\n",
      "    collapse\n",
      "\n",
      "\n",
      "Loading required package: tensorA\n",
      "\n",
      "\n",
      "Attaching package: ‘tensorA’\n",
      "\n",
      "\n",
      "The following object is masked from ‘package:base’:\n",
      "\n",
      "    norm\n",
      "\n",
      "\n",
      "Loading required package: robustbase\n",
      "\n",
      "Loading required package: bayesm\n",
      "\n",
      "Welcome to compositions, a package for compositional data analysis.\n",
      "Find an intro with \"? compositions\"\n",
      "\n",
      "\n",
      "\n",
      "Attaching package: ‘compositions’\n",
      "\n",
      "\n",
      "The following objects are masked from ‘package:stats’:\n",
      "\n",
      "    cor, cov, dist, var\n",
      "\n",
      "\n",
      "The following objects are masked from ‘package:base’:\n",
      "\n",
      "    %*%, scale, scale.default\n",
      "\n",
      "\n"
     ]
    }
   ],
   "source": [
    "source(\"../scripts/ancom_v2.1.R\")"
   ]
  },
  {
   "cell_type": "code",
   "execution_count": 5,
   "metadata": {},
   "outputs": [],
   "source": [
    "# Step 1: Data preprocessing\n",
    "\n",
    "feature_table = otu_data; sample_var = \"Sample.ID\"; group_var = \"delivery\"\n",
    "out_cut = 0.05; zero_cut = 0.90; lib_cut = 0; neg_lb = TRUE\n",
    "prepro = feature_table_pre_process(feature_table, meta_data, sample_var, group_var, \n",
    "                                   out_cut, zero_cut, lib_cut, neg_lb)\n",
    "feature_table = prepro$feature_table # Preprocessed feature table\n",
    "meta_data = prepro$meta_data # Preprocessed metadata\n",
    "struc_zero = prepro$structure_zeros # Structural zero info"
   ]
  },
  {
   "cell_type": "code",
   "execution_count": 6,
   "metadata": {},
   "outputs": [],
   "source": [
    "# Step 2: ANCOM\n",
    "\n",
    "main_var = \"delivery\"; p_adj_method = \"BH\"; alpha = 0.05\n",
    "adj_formula = NULL; rand_formula = \"~ 1 | studyid\"\n",
    "t_start = Sys.time()\n",
    "res = ANCOM(feature_table, meta_data, struc_zero, main_var, p_adj_method, \n",
    "            alpha, adj_formula, rand_formula)\n",
    "t_end = Sys.time()\n",
    "t_run = t_end - t_start # around 30s\n",
    "\n",
    "write_csv(res$out, \"outputs/res_ecam.csv\")"
   ]
  },
  {
   "cell_type": "code",
   "execution_count": 7,
   "metadata": {},
   "outputs": [],
   "source": [
    "# Step 3: Volcano Plot\n",
    "\n",
    "# Number of taxa except structural zeros\n",
    "n_taxa = ifelse(is.null(struc_zero), nrow(feature_table), sum(apply(struc_zero, 1, sum) == 0))\n",
    "# Cutoff values for declaring differentially abundant taxa\n",
    "cut_off = c(0.9 * (n_taxa -1), 0.8 * (n_taxa -1), 0.7 * (n_taxa -1), 0.6 * (n_taxa -1))\n",
    "names(cut_off) = c(\"detected_0.9\", \"detected_0.8\", \"detected_0.7\", \"detected_0.6\")"
   ]
  },
  {
   "cell_type": "code",
   "execution_count": 8,
   "metadata": {},
   "outputs": [
    {
     "data": {
      "image/png": "[encoded data removed]",
      "text/plain": [
       "plot without title"
      ]
     },
     "metadata": {
      "image/png": {
       "height": 420,
       "width": 420
      },
      "text/plain": {
       "height": 420,
       "width": 420
      }
     },
     "output_type": "display_data"
    }
   ],
   "source": [
    "# Annotation data\n",
    "dat_ann = data.frame(x = min(res$fig$data$x), y = cut_off[\"detected_0.7\"], label = \"W[0.7]\")\n",
    "\n",
    "fig = res$fig + \n",
    "  geom_hline(yintercept = cut_off[\"detected_0.7\"], linetype = \"dashed\") + \n",
    "  geom_text(data = dat_ann, aes(x = x, y = y, label = label), \n",
    "            size = 4, vjust = -0.5, hjust = 0, color = \"orange\", parse = TRUE)\n",
    "fig\n",
    "ggsave(\"images/ecam.jpeg\", height=5, width=6.25, units='in', dpi = 300)"
   ]
  }
 ],
 "metadata": {
  "kernelspec": {
   "display_name": "R",
   "language": "R",
   "name": "ir"
  },
  "language_info": {
   "codemirror_mode": "r",
   "file_extension": ".r",
   "mimetype": "text/x-r-source",
   "name": "R",
   "pygments_lexer": "r",
   "version": "3.5.1"
  }
 },
 "nbformat": 4,
 "nbformat_minor": 2
}
